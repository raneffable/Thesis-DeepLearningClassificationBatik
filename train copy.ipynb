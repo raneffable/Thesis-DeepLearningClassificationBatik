{
 "cells": [
  {
   "cell_type": "code",
   "execution_count": 1,
   "metadata": {},
   "outputs": [
    {
     "ename": "",
     "evalue": "",
     "output_type": "error",
     "traceback": [
      "\u001b[1;31mCanceled future for execute_request message before replies were done"
     ]
    },
    {
     "ename": "",
     "evalue": "",
     "output_type": "error",
     "traceback": [
      "\u001b[1;31mThe Kernel crashed while executing code in the the current cell or a previous cell. Please review the code in the cell(s) to identify a possible cause of the failure. Click <a href='https://aka.ms/vscodeJupyterKernelCrash'>here</a> for more info. View Jupyter <a href='command:jupyter.viewOutput'>log</a> for further details."
     ]
    }
   ],
   "source": [
    "import numpy as np\n",
    "import cv2\n",
    "import os\n",
    "from sklearn.model_selection import train_test_split\n",
    "import matplotlib.pyplot as plt\n",
    "from keras.preprocessing.image import ImageDataGenerator\n",
    "from keras.utils.np_utils import to_categorical\n",
    "from keras.models import Sequential\n",
    "from keras.layers import Conv2D,MaxPooling2D,Dense, Dropout, Activation, Flatten\n",
    "from keras.layers import MaxPool2D\n",
    "from keras.optimizers import Adam , RMSprop, SGD\n",
    "from keras.callbacks import EarlyStopping\n",
    "import pickle "
   ]
  },
  {
   "cell_type": "code",
   "execution_count": 27,
   "metadata": {},
   "outputs": [],
   "source": [
    "path = 'DatasetsTestBatikNoDuplicate5k'\n",
    "testRatio = 0.2\n",
    "validationRatio = 0.2\n",
    "imageDimension =(32,32,3)\n",
    "batchSizeVal=32\n",
    "epochsVal=15\n",
    "# stepsPerEpochVal=757\n"
   ]
  },
  {
   "cell_type": "code",
   "execution_count": 5,
   "metadata": {},
   "outputs": [
    {
     "name": "stdout",
     "output_type": "stream",
     "text": [
      "Total Number of Classes Detected  :  5\n",
      "Importing Classes ....\n",
      "0 1 2 3 4 \n",
      "24680\n"
     ]
    }
   ],
   "source": [
    "images=[]\n",
    "classNumber =[]\n",
    "\n",
    "myList = os.listdir(path)\n",
    "print(\"Total Number of Classes Detected\" , \" : \" ,  len(myList))\n",
    "NumberOfClasses =len(myList)\n",
    "\n",
    "print(\"Importing Classes ....\")\n",
    "for x in range(0,NumberOfClasses):\n",
    "\n",
    "    myPicList = os.listdir(path+\"/\"+str(x))\n",
    "\n",
    "    for y in myPicList:\n",
    "        currentImage = cv2.imread(path+\"/\"+str(x)+\"/\"+y)\n",
    "        currentImage = cv2.resize(currentImage, (imageDimension[0],imageDimension[1]) )\n",
    "        images.append(currentImage)\n",
    "        classNumber.append(x)\n",
    "    print(x,end = \" \" )  \n",
    "print(\"\")\n",
    "print(len(classNumber))\n",
    "\n",
    "images = np.array(images)\n",
    "classNumber = np.array(classNumber)"
   ]
  },
  {
   "cell_type": "code",
   "execution_count": 6,
   "metadata": {},
   "outputs": [
    {
     "name": "stdout",
     "output_type": "stream",
     "text": [
      "images : (24680, 128, 128, 3)\n",
      "classNumber: (24680,)\n"
     ]
    }
   ],
   "source": [
    "print(\"images : \" + str(images.shape))\n",
    "print(\"classNumber: \"+ str(classNumber.shape))"
   ]
  },
  {
   "cell_type": "code",
   "execution_count": 7,
   "metadata": {},
   "outputs": [],
   "source": [
    "### Split Data\n",
    "X_train,X_test,Y_train,Y_test = train_test_split(images,classNumber,test_size = testRatio)\n",
    "X_train,X_validation,Y_train,Y_validation= train_test_split(X_train,Y_train,test_size = validationRatio)"
   ]
  },
  {
   "cell_type": "code",
   "execution_count": 8,
   "metadata": {},
   "outputs": [
    {
     "name": "stdout",
     "output_type": "stream",
     "text": [
      "x_train.shape = (15795, 128, 128, 3)\n",
      "x_test.shape = (4936, 128, 128, 3)\n",
      "x_validation.shape = (3949, 128, 128, 3)\n"
     ]
    }
   ],
   "source": [
    "print(\"x_train.shape = \" + str(X_train.shape))\n",
    "print(\"x_test.shape = \" +str(X_test.shape))\n",
    "print(\"x_validation.shape = \"+str(X_validation.shape))\n"
   ]
  },
  {
   "cell_type": "code",
   "execution_count": 9,
   "metadata": {},
   "outputs": [
    {
     "name": "stdout",
     "output_type": "stream",
     "text": [
      "Number Of Samples : [3161, 3136, 3137, 3186, 3175]\n"
     ]
    }
   ],
   "source": [
    "NumberOfSamples=[]\n",
    "for x in range(0,NumberOfClasses):\n",
    "    # print(len(np.where(Y_train ==x)[0]))\n",
    "    NumberOfSamples.append(len(np.where(Y_train==x)[0]))\n",
    "print(\"Number Of Samples : \" +str(NumberOfSamples))"
   ]
  },
  {
   "cell_type": "code",
   "execution_count": 10,
   "metadata": {},
   "outputs": [
    {
     "data": {
      "image/png": "[encoded data removed]",
      "text/plain": [
       "<Figure size 1000x500 with 1 Axes>"
      ]
     },
     "metadata": {},
     "output_type": "display_data"
    }
   ],
   "source": [
    "plt.figure(figsize=(10,5))\n",
    "plt.bar(range(0,NumberOfClasses),NumberOfSamples)\n",
    "plt.title(\"Number of Images for each Class\")\n",
    "plt.xlabel(\"Class ID\")\n",
    "plt.ylabel(\"Number of Images\")\n",
    "plt.show()"
   ]
  },
  {
   "cell_type": "code",
   "execution_count": 11,
   "metadata": {},
   "outputs": [],
   "source": [
    "def PreProcessing(img):\n",
    "    # img = cv2.cvtColor(img,cv2.COLOR_BGR2GRAY)\n",
    "    # img = cv2.equalizeHist(img)\n",
    "    img = img/255 \n",
    "    return img"
   ]
  },
  {
   "cell_type": "code",
   "execution_count": 12,
   "metadata": {},
   "outputs": [
    {
     "data": {
      "text/plain": [
       "-1"
      ]
     },
     "execution_count": 12,
     "metadata": {},
     "output_type": "execute_result"
    }
   ],
   "source": [
    "img = PreProcessing(X_train[1500])\n",
    "cv2.imshow(\"Image of X_train\",img)\n",
    "cv2.waitKey(0)"
   ]
  },
  {
   "cell_type": "code",
   "execution_count": 13,
   "metadata": {},
   "outputs": [],
   "source": [
    "X_train=np.array(list(map(PreProcessing,X_train)))\n",
    "X_test=np.array(list(map(PreProcessing,X_test)))\n",
    "X_validation=np.array(list(map(PreProcessing,X_validation)))"
   ]
  },
  {
   "cell_type": "code",
   "execution_count": 14,
   "metadata": {},
   "outputs": [
    {
     "name": "stdout",
     "output_type": "stream",
     "text": [
      "(15795, 128, 128, 3)\n"
     ]
    }
   ],
   "source": [
    "print(X_train.shape)"
   ]
  },
  {
   "cell_type": "code",
   "execution_count": 15,
   "metadata": {},
   "outputs": [],
   "source": [
    "# X_train = X_train.reshape(X_train.shape[0],X_train.shape[1],X_train.shape[2],1)\n",
    "# X_test = X_test.reshape(X_test.shape[0],X_test.shape[1],X_test.shape[2],1)\n",
    "# X_validation = X_validation.reshape(X_validation.shape[0],X_validation.shape[1],X_validation.shape[2],1)"
   ]
  },
  {
   "cell_type": "code",
   "execution_count": 16,
   "metadata": {},
   "outputs": [
    {
     "name": "stdout",
     "output_type": "stream",
     "text": [
      "(15795, 128, 128, 3)\n"
     ]
    }
   ],
   "source": [
    " print(X_train.shape)"
   ]
  },
  {
   "cell_type": "code",
   "execution_count": 17,
   "metadata": {},
   "outputs": [],
   "source": [
    "# dataGen = ImageDataGenerator(width_shift_range=0.1,height_shift_range=0.1,zoom_range=0.2,shear_range=0.1,rotation_range=10)\n",
    "# dataGen.fit(X_train)"
   ]
  },
  {
   "cell_type": "code",
   "execution_count": 18,
   "metadata": {},
   "outputs": [
    {
     "name": "stdout",
     "output_type": "stream",
     "text": [
      "[0 4 3 ... 3 1 3]\n"
     ]
    }
   ],
   "source": [
    "print(Y_train)"
   ]
  },
  {
   "cell_type": "code",
   "execution_count": 19,
   "metadata": {},
   "outputs": [],
   "source": [
    "Y_train = to_categorical(Y_train,NumberOfClasses) \n",
    "Y_test = to_categorical(Y_test,NumberOfClasses) \n",
    "Y_validation = to_categorical(Y_validation,NumberOfClasses) "
   ]
  },
  {
   "cell_type": "code",
   "execution_count": 20,
   "metadata": {},
   "outputs": [
    {
     "name": "stdout",
     "output_type": "stream",
     "text": [
      "[[1. 0. 0. 0. 0.]\n",
      " [0. 0. 0. 0. 1.]\n",
      " [0. 0. 0. 1. 0.]\n",
      " ...\n",
      " [0. 0. 0. 1. 0.]\n",
      " [0. 1. 0. 0. 0.]\n",
      " [0. 0. 0. 1. 0.]]\n"
     ]
    }
   ],
   "source": [
    "print(Y_train)"
   ]
  },
  {
   "cell_type": "code",
   "execution_count": 21,
   "metadata": {},
   "outputs": [],
   "source": [
    "def myModel():\n",
    "    NumberOfFilters1 = 32 \n",
    "    NumberOfFilters2 = 64\n",
    "    sizeOfFilter1=(5,5)\n",
    "    sizeOfFilter2=(3,3)\n",
    "    sizeOfPool=(2,2)\n",
    "    NumberOfNode=128\n",
    "    \n",
    "    model = Sequential()\n",
    "    model.add((Conv2D(NumberOfFilters1,sizeOfFilter2,input_shape=(imageDimension[0],imageDimension[1],3),activation='relu',padding='same')))\n",
    "    model.add(MaxPooling2D(pool_size=sizeOfPool))\n",
    "    model.add(Dropout(0.25))\n",
    "\n",
    "    model.add((Conv2D(NumberOfFilters1,sizeOfFilter2,activation='relu',padding='same')))\n",
    "    model.add(MaxPooling2D(pool_size=sizeOfPool))\n",
    "    model.add(Dropout(0.25))\n",
    "    \n",
    "    model.add((Conv2D(NumberOfFilters2,sizeOfFilter2,activation='relu',padding='same')))\n",
    "    model.add(MaxPooling2D(pool_size=sizeOfPool))\n",
    "    model.add(Dropout(0.25))\n",
    "    \n",
    "    model.add((Conv2D(128,sizeOfFilter2,activation='relu',padding='same')))\n",
    "    model.add(MaxPooling2D(pool_size=sizeOfPool))\n",
    "    model.add(Dropout(0.25))\n",
    "    \n",
    "    model.add(Flatten())\n",
    "    model.add(Dense(NumberOfNode,activation='relu'))\n",
    "    model.add(Dropout(0.5))\n",
    "    model.add(Dense(NumberOfClasses,activation='softmax'))\n",
    "    model.compile(Adam(lr=0.001),loss='categorical_crossentropy',metrics=['accuracy'])\n",
    "    \n",
    "    return model"
   ]
  },
  {
   "cell_type": "code",
   "execution_count": 22,
   "metadata": {},
   "outputs": [],
   "source": [
    "# es = EarlyStopping(monitor='val_loss', mode='min', verbose=1)\n",
    "# print(es)"
   ]
  },
  {
   "cell_type": "code",
   "execution_count": 28,
   "metadata": {},
   "outputs": [
    {
     "name": "stdout",
     "output_type": "stream",
     "text": [
      "Model: \"sequential_2\"\n",
      "_________________________________________________________________\n",
      "Layer (type)                 Output Shape              Param #   \n",
      "=================================================================\n",
      "conv2d_5 (Conv2D)            (None, 128, 128, 32)      896       \n",
      "_________________________________________________________________\n",
      "max_pooling2d_5 (MaxPooling2 (None, 64, 64, 32)        0         \n",
      "_________________________________________________________________\n",
      "dropout_6 (Dropout)          (None, 64, 64, 32)        0         \n",
      "_________________________________________________________________\n",
      "conv2d_6 (Conv2D)            (None, 64, 64, 32)        9248      \n",
      "_________________________________________________________________\n",
      "max_pooling2d_6 (MaxPooling2 (None, 32, 32, 32)        0         \n",
      "_________________________________________________________________\n",
      "dropout_7 (Dropout)          (None, 32, 32, 32)        0         \n",
      "_________________________________________________________________\n",
      "conv2d_7 (Conv2D)            (None, 32, 32, 64)        18496     \n",
      "_________________________________________________________________\n",
      "max_pooling2d_7 (MaxPooling2 (None, 16, 16, 64)        0         \n",
      "_________________________________________________________________\n",
      "dropout_8 (Dropout)          (None, 16, 16, 64)        0         \n",
      "_________________________________________________________________\n",
      "conv2d_8 (Conv2D)            (None, 16, 16, 128)       73856     \n",
      "_________________________________________________________________\n",
      "max_pooling2d_8 (MaxPooling2 (None, 8, 8, 128)         0         \n",
      "_________________________________________________________________\n",
      "dropout_9 (Dropout)          (None, 8, 8, 128)         0         \n",
      "_________________________________________________________________\n",
      "flatten_2 (Flatten)          (None, 8192)              0         \n",
      "_________________________________________________________________\n",
      "dense_3 (Dense)              (None, 128)               1048704   \n",
      "_________________________________________________________________\n",
      "dropout_10 (Dropout)         (None, 128)               0         \n",
      "_________________________________________________________________\n",
      "dense_4 (Dense)              (None, 5)                 645       \n",
      "=================================================================\n",
      "Total params: 1,151,845\n",
      "Trainable params: 1,151,845\n",
      "Non-trainable params: 0\n",
      "_________________________________________________________________\n",
      "None\n",
      "Train on 15795 samples, validate on 3949 samples\n",
      "Epoch 1/15\n",
      "15795/15795 [==============================] - 213s 13ms/step - loss: 1.0831 - accuracy: 0.5433 - val_loss: 0.6491 - val_accuracy: 0.7511\n",
      "Epoch 2/15\n",
      "15795/15795 [==============================] - 252s 16ms/step - loss: 0.5635 - accuracy: 0.7904 - val_loss: 0.3509 - val_accuracy: 0.8711\n",
      "Epoch 3/15\n",
      "15795/15795 [==============================] - 244s 15ms/step - loss: 0.3390 - accuracy: 0.8747 - val_loss: 0.2995 - val_accuracy: 0.8871\n",
      "Epoch 4/15\n",
      "15795/15795 [==============================] - 216s 14ms/step - loss: 0.2265 - accuracy: 0.9214 - val_loss: 0.1279 - val_accuracy: 0.9582\n",
      "Epoch 5/15\n",
      "15795/15795 [==============================] - 214s 14ms/step - loss: 0.1832 - accuracy: 0.9370 - val_loss: 0.0744 - val_accuracy: 0.9752\n",
      "Epoch 6/15\n",
      "15795/15795 [==============================] - 214s 14ms/step - loss: 0.1249 - accuracy: 0.9562 - val_loss: 0.0903 - val_accuracy: 0.9625\n",
      "Epoch 7/15\n",
      "15795/15795 [==============================] - 214s 14ms/step - loss: 0.0904 - accuracy: 0.9698 - val_loss: 0.1224 - val_accuracy: 0.9620\n",
      "Epoch 8/15\n",
      "15795/15795 [==============================] - 214s 14ms/step - loss: 0.1068 - accuracy: 0.9648 - val_loss: 0.0741 - val_accuracy: 0.9772\n",
      "Epoch 9/15\n",
      "15795/15795 [==============================] - 215s 14ms/step - loss: 0.1226 - accuracy: 0.9651 - val_loss: 0.0395 - val_accuracy: 0.9856\n",
      "Epoch 10/15\n",
      "15795/15795 [==============================] - 213s 14ms/step - loss: 0.0857 - accuracy: 0.9728 - val_loss: 0.0694 - val_accuracy: 0.9764\n",
      "Epoch 11/15\n",
      "15795/15795 [==============================] - 214s 14ms/step - loss: 0.0542 - accuracy: 0.9806 - val_loss: 0.0623 - val_accuracy: 0.9805\n",
      "Epoch 12/15\n",
      "15795/15795 [==============================] - 214s 14ms/step - loss: 0.0631 - accuracy: 0.9809 - val_loss: 0.0171 - val_accuracy: 0.9939\n",
      "Epoch 13/15\n",
      "15795/15795 [==============================] - 213s 14ms/step - loss: 0.0661 - accuracy: 0.9828 - val_loss: 0.2494 - val_accuracy: 0.9195\n",
      "Epoch 14/15\n",
      "15795/15795 [==============================] - 215s 14ms/step - loss: 0.0550 - accuracy: 0.9823 - val_loss: 0.1014 - val_accuracy: 0.9658\n",
      "Epoch 15/15\n",
      "15795/15795 [==============================] - 213s 13ms/step - loss: 0.0636 - accuracy: 0.9797 - val_loss: 0.0242 - val_accuracy: 0.9914\n"
     ]
    }
   ],
   "source": [
    "model = myModel()\n",
    "print(model.summary())\n",
    "# history = model.fit_generator(dataGen.flow(X_train,Y_train,batch_size=batchSizeVal),steps_per_epoch=len(classNumber)/batchSizeVal,epochs=epochsVal,validation_data=(X_validation,Y_validation),shuffle=1)\n",
    "history = model.fit(X_train,Y_train,batch_size=batchSizeVal,epochs=epochsVal,validation_data=(X_validation,Y_validation),shuffle=1)"
   ]
  },
  {
   "cell_type": "code",
   "execution_count": 29,
   "metadata": {},
   "outputs": [
    {
     "data": {
      "image/png": "[encoded data removed]",
      "text/plain": [
       "<Figure size 640x480 with 1 Axes>"
      ]
     },
     "metadata": {},
     "output_type": "display_data"
    },
    {
     "data": {
      "image/png": "[encoded data removed]",
      "text/plain": [
       "<Figure size 640x480 with 1 Axes>"
      ]
     },
     "metadata": {},
     "output_type": "display_data"
    }
   ],
   "source": [
    "plt.figure(1)\n",
    "plt.plot(history.history['loss'])\n",
    "plt.plot(history.history['val_loss'])\n",
    "plt.legend(['training','validation'])\n",
    "plt.title('Loss')\n",
    "plt.xlabel('epoch')\n",
    "\n",
    "plt.figure(2)\n",
    "plt.plot(history.history['accuracy'])\n",
    "plt.plot(history.history['val_accuracy'])\n",
    "plt.legend(['training','validation'])\n",
    "plt.title('Accuracy')\n",
    "plt.xlabel('epoch')\n",
    "plt.show()"
   ]
  },
  {
   "cell_type": "code",
   "execution_count": 30,
   "metadata": {},
   "outputs": [
    {
     "name": "stdout",
     "output_type": "stream",
     "text": [
      "Score Loss = 0.027448307250919218\n",
      "Score Accuracy  =  0.9918962717056274\n",
      "[0.027448307250919218, 0.9918962717056274]\n"
     ]
    }
   ],
   "source": [
    "score= model.evaluate(X_test,Y_test,verbose=0)\n",
    "print('Score Loss =',score[0])\n",
    "print('Score Accuracy  = ',score[1])\n",
    "print(score)\n",
    "\n"
   ]
  },
  {
   "cell_type": "code",
   "execution_count": 31,
   "metadata": {},
   "outputs": [],
   "source": [
    "pickle_out=open(\"31_TestModelResize6\",\"wb\")\n",
    "pickle.dump(model,pickle_out)\n",
    "pickle_out.close()"
   ]
  }
 ],
 "metadata": {
  "kernelspec": {
   "display_name": "Python 3.7.4 64-bit",
   "language": "python",
   "name": "python3"
  },
  "language_info": {
   "codemirror_mode": {
    "name": "ipython",
    "version": 3
   },
   "file_extension": ".py",
   "mimetype": "text/x-python",
   "name": "python",
   "nbconvert_exporter": "python",
   "pygments_lexer": "ipython3",
   "version": "3.7.4"
  },
  "orig_nbformat": 4,
  "vscode": {
   "interpreter": {
    "hash": "bf75167d45620682f15988d2ef25459731feef51a912d565a3335432472e34fc"
   }
  }
 },
 "nbformat": 4,
 "nbformat_minor": 2
}
